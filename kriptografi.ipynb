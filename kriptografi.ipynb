{
 "cells": [
  {
   "cell_type": "code",
   "execution_count": 1,
   "id": "1c628925-89a3-4b9d-bfb5-e9a702c0abcc",
   "metadata": {},
   "outputs": [
    {
     "ename": "SystemExit",
     "evalue": "0",
     "output_type": "error",
     "traceback": [
      "An exception has occurred, use %tb to see the full traceback.\n",
      "\u001b[1;31mSystemExit\u001b[0m\u001b[1;31m:\u001b[0m 0\n"
     ]
    },
    {
     "name": "stderr",
     "output_type": "stream",
     "text": [
      "C:\\Users\\LENOVO\\anaconda3\\Lib\\site-packages\\IPython\\core\\interactiveshell.py:3585: UserWarning: To exit: use 'exit', 'quit', or Ctrl-D.\n",
      "  warn(\"To exit: use 'exit', 'quit', or Ctrl-D.\", stacklevel=1)\n"
     ]
    }
   ],
   "source": [
    "import sys\n",
    "from PyQt5.QtWidgets import QApplication, QWidget, QVBoxLayout, QHBoxLayout, QPushButton, QTextEdit, QLabel, QLineEdit\n",
    "from PyQt5.QtGui import QFont\n",
    "from Crypto.Cipher import AES\n",
    "from Crypto.Util.Padding import pad, unpad\n",
    "from Crypto.Random import get_random_bytes\n",
    "import base64\n",
    "\n",
    "class AESEncryptionGUI(QWidget):\n",
    "    def __init__(self):\n",
    "        super().__init__()\n",
    "        self.initUI()\n",
    "\n",
    "    def initUI(self):\n",
    "        self.setWindowTitle('AES Encryption/Decryption')\n",
    "        self.setGeometry(100, 100, 600, 400)\n",
    "\n",
    "        layout = QVBoxLayout()\n",
    "\n",
    "        # Input text\n",
    "        self.input_text = QTextEdit()\n",
    "        self.input_text.setPlaceholderText(\"Enter text to encrypt/decrypt\")\n",
    "        layout.addWidget(QLabel(\"Input:\"))\n",
    "        layout.addWidget(self.input_text)\n",
    "\n",
    "        # Key input\n",
    "        key_layout = QHBoxLayout()\n",
    "        self.key_input = QLineEdit()\n",
    "        self.key_input.setPlaceholderText(\"Enter 16-character key\")\n",
    "        key_layout.addWidget(QLabel(\"Key:\"))\n",
    "        key_layout.addWidget(self.key_input)\n",
    "        layout.addLayout(key_layout)\n",
    "\n",
    "        # Buttons\n",
    "        button_layout = QHBoxLayout()\n",
    "        self.encrypt_button = QPushButton('Encrypt')\n",
    "        self.decrypt_button = QPushButton('Decrypt')\n",
    "        self.encrypt_button.clicked.connect(self.encrypt)\n",
    "        self.decrypt_button.clicked.connect(self.decrypt)\n",
    "        button_layout.addWidget(self.encrypt_button)\n",
    "        button_layout.addWidget(self.decrypt_button)\n",
    "        layout.addLayout(button_layout)\n",
    "\n",
    "        # Output text\n",
    "        self.output_text = QTextEdit()\n",
    "        self.output_text.setReadOnly(True)\n",
    "        layout.addWidget(QLabel(\"Output:\"))\n",
    "        layout.addWidget(self.output_text)\n",
    "\n",
    "        self.setLayout(layout)\n",
    "\n",
    "    def encrypt(self):\n",
    "        plaintext = self.input_text.toPlainText().encode()\n",
    "        key = self.key_input.text().encode()\n",
    "        \n",
    "        if len(key) != 16:\n",
    "            self.output_text.setText(\"Error: Key must be 16 characters long\")\n",
    "            return\n",
    "\n",
    "        cipher = AES.new(key, AES.MODE_ECB)\n",
    "        padded_data = pad(plaintext, AES.block_size)\n",
    "        ciphertext = cipher.encrypt(padded_data)\n",
    "        encrypted = base64.b64encode(ciphertext).decode()\n",
    "        self.output_text.setText(encrypted)\n",
    "\n",
    "    def decrypt(self):\n",
    "        ciphertext = base64.b64decode(self.input_text.toPlainText())\n",
    "        key = self.key_input.text().encode()\n",
    "        \n",
    "        if len(key) != 16:\n",
    "            self.output_text.setText(\"Error: Key must be 16 characters long\")\n",
    "            return\n",
    "\n",
    "        cipher = AES.new(key, AES.MODE_ECB)\n",
    "        padded_data = cipher.decrypt(ciphertext)\n",
    "        plaintext = unpad(padded_data, AES.block_size).decode()\n",
    "        self.output_text.setText(plaintext)\n",
    "\n",
    "if __name__ == '__main__':\n",
    "    app = QApplication(sys.argv)\n",
    "    ex = AESEncryptionGUI()\n",
    "    ex.show()\n",
    "    sys.exit(app.exec_())"
   ]
  },
  {
   "cell_type": "code",
   "execution_count": null,
   "id": "8f202438-669b-4c68-83c4-e47079e56c0b",
   "metadata": {},
   "outputs": [],
   "source": []
  }
 ],
 "metadata": {
  "kernelspec": {
   "display_name": "Python 3 (ipykernel)",
   "language": "python",
   "name": "python3"
  },
  "language_info": {
   "codemirror_mode": {
    "name": "ipython",
    "version": 3
   },
   "file_extension": ".py",
   "mimetype": "text/x-python",
   "name": "python",
   "nbconvert_exporter": "python",
   "pygments_lexer": "ipython3",
   "version": "3.12.4"
  }
 },
 "nbformat": 4,
 "nbformat_minor": 5
}
